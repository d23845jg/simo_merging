{
 "cells": [
  {
   "cell_type": "code",
   "execution_count": null,
   "metadata": {},
   "outputs": [],
   "source": [
    "import torch\n",
    "import torch.optim as optim\n",
    "import os\n",
    "import yaml\n",
    "import wandb\n",
    "\n",
    "from jinja2 import Environment, FileSystemLoader\n",
    "\n",
    "from training.create_dataset import *\n",
    "from training.create_network import *\n",
    "from models.dinov2.mtl.multitasker import MTLDinoV2\n",
    "from training.utils import create_task_flags, TaskMetric, eval\n",
    "from utils import torch_save, get_data_loaders, initialize_wandb\n",
    "\n",
    "# Login to wandb\n",
    "wandb.login(key=\"e31760df895b69a4dbca617faa701601c012611b\")"
   ]
  },
  {
   "cell_type": "code",
   "execution_count": 2,
   "metadata": {},
   "outputs": [],
   "source": [
    "# Options for training\n",
    "env = Environment(loader=FileSystemLoader('.'))\n",
    "template = env.get_template('config/mtl.yaml.j2')\n",
    "rendered_yaml = template.render()\n",
    "config = yaml.safe_load(rendered_yaml)"
   ]
  },
  {
   "cell_type": "code",
   "execution_count": null,
   "metadata": {},
   "outputs": [],
   "source": [
    "# Tune hyperparameters with sweeps\n",
    "sweep_config = {\n",
    "  \"method\": \"bayes\",\n",
    "  \"metric\": {\n",
    "    \"name\": f\"backbone_head/test/metric/{config['training_params']['task']}\",\n",
    "    \"goal\": \"maximize\"\n",
    "  },\n",
    "  \"parameters\": {\n",
    "    \"lr_backbone_head\": {\n",
    "      \"distribution\": \"uniform\",\n",
    "      \"min\": 0.00000001,\n",
    "      \"max\": 0.0001,\n",
    "    },\n",
    "    \"dino_output_layer\": {\n",
    "      \"values\": [\n",
    "        [2, 5, 8, 11],\n",
    "        [5, 7, 9, 11],\n",
    "        [8, 9, 10, 11],\n",
    "        [11],\n",
    "      ]\n",
    "    },\n",
    "    \"cls_token\": {\n",
    "      \"values\": [True, False]\n",
    "    },\n",
    "  },\n",
    "  \"early_terminate\": {\n",
    "    \"type\": \"hyperband\",\n",
    "    \"min_iter\": 6,\n",
    "  }\n",
    "}\n",
    "\n",
    "sweep_id = wandb.sweep(\n",
    "  sweep_config, \n",
    "  project=config[\"wandb\"][\"project\"], \n",
    ")"
   ]
  },
  {
   "cell_type": "code",
   "execution_count": 4,
   "metadata": {},
   "outputs": [],
   "source": [
    "torch.manual_seed(config[\"training_params\"][\"seed\"])\n",
    "np.random.seed(config[\"training_params\"][\"seed\"])\n",
    "random.seed(config[\"training_params\"][\"seed\"])\n",
    "\n",
    "# device = torch.device(f\"cuda:{config[\"training_params\"]['gpu']}\" if torch.cuda.is_available() else \"cpu\")\n",
    "device = torch.device(\"cuda\" if torch.cuda.is_available() else \"cpu\")"
   ]
  },
  {
   "cell_type": "code",
   "execution_count": 5,
   "metadata": {},
   "outputs": [],
   "source": [
    "def train(model, optimizer, scheduler, total_epochs, train_tasks, config, mode=\"head\"):\n",
    "  # Create data loaders\n",
    "  train_loader, val_loader, test_loader = get_data_loaders(config)\n",
    "  \n",
    "  # Define metrics\n",
    "  train_metric = TaskMetric(train_tasks, train_tasks, config[\"training_params\"][\"batch_size\"], total_epochs, config[\"training_params\"][\"dataset\"])\n",
    "  test_metric = TaskMetric(train_tasks, train_tasks, config[\"training_params\"][\"batch_size\"], total_epochs, config[\"training_params\"][\"dataset\"])\n",
    "\n",
    "  #  Training loop\n",
    "  model.to(device)\n",
    "  for epoch in range(total_epochs):\n",
    "      model.train()\n",
    "      train_dataset = iter(train_loader)\n",
    "      for k in range(len(train_loader)):\n",
    "          train_data, train_target = next(train_dataset)\n",
    "          train_data = train_data.to(device)\n",
    "          train_target = {task_id: train_target[task_id].to(device) for task_id in model.head_tasks}\n",
    "          \n",
    "          train_res = model(train_data, None, img_gt=train_target, return_loss=True)\n",
    "          \n",
    "          optimizer.zero_grad()\n",
    "          train_res[\"total_loss\"].backward()\n",
    "          optimizer.step()\n",
    "          scheduler.step()\n",
    "\n",
    "          train_metric.update_metric(train_res, train_target)\n",
    "      train_str = train_metric.compute_metric()\n",
    "      \n",
    "      wandb.log({\n",
    "          **{f\"{mode}/train/loss/{task_id}\": train_res[task_id][\"total_loss\"] for task_id in model.head_tasks},\n",
    "          **{f\"{mode}/train/metric/{task_id}\": train_metric.get_metric(task_id) for task_id in model.head_tasks}\n",
    "      },) # step=epoch\n",
    "      train_metric.reset()\n",
    "\n",
    "      # evaluating\n",
    "      test_str = eval(epoch, model, test_loader, test_metric, mode=mode)\n",
    "\n",
    "      print(f\"Epoch {epoch:04d} | TRAIN:{train_str} || TEST:{test_str} | Best: {config['training_params']['task'].title()} {test_metric.get_best_performance(config['training_params']['task']):.4f}\")\n",
    "  print(\"\\n\\n\\n\")"
   ]
  },
  {
   "cell_type": "code",
   "execution_count": 6,
   "metadata": {},
   "outputs": [],
   "source": [
    "def hyper_param_search():\n",
    "  # Initialize a new wandb run\n",
    "  initialize_wandb(\n",
    "    project=config[\"wandb\"][\"project\"], \n",
    "    group=f\"{config['training_params']['network']}\", \n",
    "    job_type=\"task_specific\", \n",
    "    mode=config[\"wandb\"][\"mode\"], \n",
    "    config={\n",
    "      \"task\": config['training_params']['task'],\n",
    "      \"network\": config['training_params']['network'],\n",
    "      \"dataset\": config['training_params']['dataset'],\n",
    "      \"epochs\": config['training_params']['total_epochs'],\n",
    "      \"lr_head\": config['training_params']['lr_head'],\n",
    "      \"batch_size\": config['training_params']['batch_size'],\n",
    "      \"seed\": config['training_params']['seed'],\n",
    "    }\n",
    "  )\n",
    "    \n",
    "  # config set by Sweep Controller\n",
    "  wandb_config = wandb.config\n",
    "  \n",
    "  data_loader, _, _ = get_data_loaders(config)\n",
    "  \n",
    "  # Define tasks\n",
    "  train_tasks = create_task_flags(config[\"training_params\"][\"task\"], config[\"training_params\"][\"dataset\"])\n",
    "  print(f\"Training Task: {config['training_params']['dataset'].title()} - {config['training_params']['task'].title()} in Single Task Learning Mode with {config['training_params']['network'].upper()}\")\n",
    "\n",
    "  # Initialize model\n",
    "  model = MTLDinoV2(\n",
    "    arch_name=\"vit_base\",\n",
    "    head_tasks=train_tasks,\n",
    "    head_archs=\"linear\",\n",
    "    out_index=wandb_config[\"dino_output_layer\"],\n",
    "    cls_token=wandb_config[\"cls_token\"],\n",
    "  )\n",
    "  num_params = sum(p.numel() for p in model.parameters() if p.requires_grad)\n",
    "  print(f\"Model: {config['training_params']['network'].title()} | Number of Trainable Parameters: {num_params/1e6:.2f}M \\n\\n\")\n",
    "  \n",
    "  # Train Head\n",
    "  model.freeze_shared_layers()\n",
    "  optimizer = optim.AdamW(model.parameters(), lr=config[\"training_params\"][\"lr_head\"], weight_decay=1e-4)\n",
    "  scheduler = optim.lr_scheduler.OneCycleLR(optimizer, max_lr=config[\"training_params\"][\"lr_head\"], steps_per_epoch=len(data_loader), epochs=config[\"training_params\"][\"total_epochs\"],  pct_start=0.1)\n",
    "  print(\"Training Head\")\n",
    "  train(model, optimizer, scheduler, config[\"training_params\"][\"total_epochs\"], train_tasks, config, mode=\"head\")\n",
    "  torch_save(model, f\"{config['training_params']['out_dir']}/{config['training_params']['task']}/{config['training_params']['task']}_head_model_lr_{wandb_config['lr_backbone_head']}_out_index_{wandb_config['dino_output_layer']}_cls_token_{wandb_config['cls_token']}.pt\")\n",
    "  \n",
    "  # Train Backbone + Head\n",
    "  model.freeze_shared_layers(requires_grad=True)\n",
    "  optimizer = optim.AdamW(model.parameters(), lr=wandb_config[\"lr_backbone_head\"], weight_decay=1e-4)\n",
    "  scheduler = optim.lr_scheduler.OneCycleLR(optimizer, max_lr=wandb_config[\"lr_backbone_head\"], steps_per_epoch=len(data_loader), epochs=3 * config[\"training_params\"][\"total_epochs\"],  pct_start=0.05)\n",
    "  print(\"Training Backbone + Head\")\n",
    "  train(model, optimizer, scheduler, 3 * config[\"training_params\"][\"total_epochs\"], train_tasks, config, mode=\"backbone_head\")\n",
    "  torch_save(model, f\"{config['training_params']['out_dir']}/{config['training_params']['task']}/{config['training_params']['task']}_model_lr_{wandb_config['lr_backbone_head']}_out_index_{wandb_config['dino_output_layer']}_cls_token_{wandb_config['cls_token']}.pt\")"
   ]
  },
  {
   "cell_type": "code",
   "execution_count": 7,
   "metadata": {},
   "outputs": [],
   "source": [
    "# hyper_param_search()"
   ]
  },
  {
   "cell_type": "code",
   "execution_count": null,
   "metadata": {},
   "outputs": [],
   "source": [
    "wandb.agent(sweep_id, hyper_param_search, count=10)"
   ]
  },
  {
   "cell_type": "code",
   "execution_count": 5,
   "metadata": {},
   "outputs": [],
   "source": [
    "wandb.finish(quiet=True)"
   ]
  },
  {
   "cell_type": "code",
   "execution_count": 11,
   "metadata": {},
   "outputs": [],
   "source": [
    "# img_metas (list[dict]): List of image info dict where each dict\n",
    "#                 has: 'img_shape', 'scale_factor', 'flip', and may also contain\n",
    "#                 'filename', 'ori_shape', 'pad_shape', and 'img_norm_cfg'."
   ]
  }
 ],
 "metadata": {
  "kernelspec": {
   "display_name": "base",
   "language": "python",
   "name": "python3"
  },
  "language_info": {
   "codemirror_mode": {
    "name": "ipython",
    "version": 3
   },
   "file_extension": ".py",
   "mimetype": "text/x-python",
   "name": "python",
   "nbconvert_exporter": "python",
   "pygments_lexer": "ipython3",
   "version": "3.10.14"
  }
 },
 "nbformat": 4,
 "nbformat_minor": 2
}
