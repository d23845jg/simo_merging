{
 "cells": [
  {
   "cell_type": "code",
   "execution_count": null,
   "metadata": {},
   "outputs": [],
   "source": [
    "import torch\n",
    "import torch.optim as optim\n",
    "import os\n",
    "import yaml\n",
    "import wandb\n",
    "\n",
    "from jinja2 import Environment, FileSystemLoader\n",
    "\n",
    "from training.create_dataset import *\n",
    "from training.create_network import *\n",
    "from models.dinov2.mtl.multitasker import MTLDinoV2\n",
    "from training.utils import create_task_flags, TaskMetric, eval\n",
    "from utils import torch_save, get_data_loaders, initialize_wandb\n",
    "\n",
    "# Login to wandb\n",
    "wandb.login()"
   ]
  },
  {
   "cell_type": "code",
   "execution_count": 2,
   "metadata": {},
   "outputs": [],
   "source": [
    "# Options for training\n",
    "env = Environment(loader=FileSystemLoader('.'))\n",
    "template = env.get_template('config/mtl.yaml.j2')\n",
    "rendered_yaml = template.render()\n",
    "config = yaml.safe_load(rendered_yaml)"
   ]
  },
  {
   "cell_type": "code",
   "execution_count": null,
   "metadata": {},
   "outputs": [],
   "source": [
    "# initialize_wandb(\n",
    "#   project=config[\"wandb\"][\"project\"], \n",
    "#   group=f\"{config['training_params']['network']}\", \n",
    "#   job_type=\"task_specific\", \n",
    "#   mode=config[\"wandb\"][\"mode\"], \n",
    "#   config={\n",
    "#     \"task\": config['training_params']['task'],\n",
    "#     \"network\": config['training_params']['network'],\n",
    "#     \"dataset\": config['training_params']['dataset'],\n",
    "#     \"epochs\": config['training_params']['total_epochs'],\n",
    "#     \"lr_head\": config['training_params']['lr_head'],\n",
    "#     \"batch_size\": config['training_params']['batch_size'],\n",
    "#     \"seed\": config['training_params']['seed'],\n",
    "#   }\n",
    "# )"
   ]
  },
  {
   "cell_type": "code",
   "execution_count": 3,
   "metadata": {},
   "outputs": [],
   "source": [
    "torch.manual_seed(config[\"training_params\"][\"seed\"])\n",
    "np.random.seed(config[\"training_params\"][\"seed\"])\n",
    "random.seed(config[\"training_params\"][\"seed\"])\n",
    "\n",
    "# device = torch.device(f\"cuda:{config[\"training_params\"]['gpu']}\" if torch.cuda.is_available() else \"cpu\")\n",
    "device = torch.device(\"cuda\" if torch.cuda.is_available() else \"cpu\")"
   ]
  },
  {
   "cell_type": "code",
   "execution_count": 4,
   "metadata": {},
   "outputs": [],
   "source": [
    "train_loader, val_loader, test_loader = get_data_loaders(config)"
   ]
  },
  {
   "cell_type": "code",
   "execution_count": null,
   "metadata": {},
   "outputs": [],
   "source": [
    "# Initialize model\n",
    "config[\"training_params\"][\"task\"] = \"depth\"\n",
    "train_tasks = create_task_flags(config[\"training_params\"][\"task\"], config[\"training_params\"][\"dataset\"])\n",
    "print(f\"Training Task: {config['training_params']['dataset'].title()} - {config['training_params']['task'].title()} in Single Task Learning Mode with {config['training_params']['network'].upper()}\")\n",
    "\n",
    "model = MTLDinoV2(\n",
    "  arch_name=\"vit_base\",\n",
    "  head_tasks=train_tasks,\n",
    "  head_archs=\"dpt\",\n",
    "  out_index=[5, 7, 9, 11],\n",
    "  cls_token=True,\n",
    ")\n",
    "num_params = sum(p.numel() for p in model.parameters() if p.requires_grad)\n",
    "print(f\"Model: {config['training_params']['network'].title()} | Number of Trainable Parameters: {num_params/1e6:.2f}M\")"
   ]
  },
  {
   "cell_type": "code",
   "execution_count": 6,
   "metadata": {},
   "outputs": [],
   "source": [
    "model.freeze_shared_layers()\n",
    "optimizer = optim.AdamW(model.parameters(), lr=config[\"training_params\"][\"lr_head\"], weight_decay=1e-4)\n",
    "scheduler = optim.lr_scheduler.OneCycleLR(optimizer, max_lr=config[\"training_params\"][\"lr_head\"], steps_per_epoch=len(train_loader), epochs=config[\"training_params\"][\"total_epochs\"],  pct_start=0.0)"
   ]
  },
  {
   "cell_type": "code",
   "execution_count": 7,
   "metadata": {},
   "outputs": [],
   "source": [
    "train_batch = len(train_loader)\n",
    "test_batch = len(test_loader)\n",
    "train_metric = TaskMetric(train_tasks, train_tasks, config[\"training_params\"][\"batch_size\"], config[\"training_params\"][\"total_epochs\"], config[\"training_params\"][\"dataset\"])\n",
    "test_metric = TaskMetric(train_tasks, train_tasks, config[\"training_params\"][\"batch_size\"], config[\"training_params\"][\"total_epochs\"], config[\"training_params\"][\"dataset\"])"
   ]
  },
  {
   "cell_type": "code",
   "execution_count": null,
   "metadata": {},
   "outputs": [],
   "source": [
    "#  Training loop\n",
    "model.to(device)\n",
    "for epoch in range(config[\"training_params\"][\"total_epochs\"]):\n",
    "    # training\n",
    "    model.train()\n",
    "    train_dataset = iter(train_loader)\n",
    "    for k in range(train_batch):\n",
    "        train_data, train_target = next(train_dataset)\n",
    "        train_data = train_data.to(device)\n",
    "        train_target = {task_id: train_target[task_id].to(device) for task_id in model.head_tasks}\n",
    "        \n",
    "        train_res = model(train_data, None, img_gt=train_target, return_loss=True)\n",
    "        \n",
    "        optimizer.zero_grad()\n",
    "        train_res[\"total_loss\"].backward()\n",
    "        torch.nn.utils.clip_grad_norm_(model.parameters(), max_norm=35, norm_type=2)\n",
    "        optimizer.step()\n",
    "        scheduler.step()\n",
    "\n",
    "        train_metric.update_metric(train_res, train_target)\n",
    "    \n",
    "    train_str = train_metric.compute_metric()\n",
    "    # print(f\"Epoch {epoch:04d} | TRAIN: {train_res['total_loss'].item()}\")\n",
    "    \n",
    "    # wandb.log({\n",
    "    #     **{f\"train/loss/{task_id}\": train_res[task_id][\"total_loss\"] for task_id in model.head_tasks},\n",
    "    #     **{f\"train/metric/{task_id}\": train_metric.get_metric(task_id) for task_id in model.head_tasks}\n",
    "    # },) # step=epoch\n",
    "    train_metric.reset()\n",
    "    print(f\"Epoch {epoch:04d} | TRAIN:{train_str}\")\n",
    "\n",
    "    # evaluating\n",
    "    # test_str = eval(epoch, model, test_loader, test_metric)\n",
    "\n",
    "    # print(f\"Epoch {epoch:04d} | TRAIN:{train_str} || TEST:{test_str} | Best: {config['training_params']['task'].title()} {test_metric.get_best_performance(config['training_params']['task']):.4f}\")\n",
    "\n",
    "    # task_dict = {\"train_loss\": train_metric.metric, \"test_loss\": test_metric.metric}\n",
    "    # np.save(\"logging/stl_{}_{}_{}_{}.npy\".format(config[\"training_params\"][\"network\"], config[\"training_params\"][\"dataset\"], config[\"training_params\"][\"task\"], config[\"training_params\"][\"seed\"]), task_dict)\n",
    "    # torch_save(model, f\"{config['training_params']['out_dir']}/{config['training_params']['task']}_head_model.pt\")"
   ]
  },
  {
   "cell_type": "code",
   "execution_count": null,
   "metadata": {},
   "outputs": [],
   "source": [
    "for name, param in model.named_parameters():\n",
    "  if param.grad is not None:\n",
    "      print(f\"Parameter: {name} | Gradient: {param.grad.norm()}\")\n",
    "  # else:\n",
    "  #     print(f\"Parameter: {name} | No gradient\")"
   ]
  },
  {
   "cell_type": "code",
   "execution_count": 10,
   "metadata": {},
   "outputs": [],
   "source": [
    "# # Options for training\n",
    "# env = Environment(loader=FileSystemLoader('.'))\n",
    "# template = env.get_template('config/mtl.yaml.j2')\n",
    "# rendered_yaml = template.render()\n",
    "# config = yaml.safe_load(rendered_yaml)\n",
    "config[\"training_params\"][\"lr\"] = 0.0001"
   ]
  },
  {
   "cell_type": "code",
   "execution_count": 11,
   "metadata": {},
   "outputs": [],
   "source": [
    "train_loader, val_loader, test_loader = get_data_loaders(config)"
   ]
  },
  {
   "cell_type": "code",
   "execution_count": 12,
   "metadata": {},
   "outputs": [],
   "source": [
    "train_batch = len(train_loader)\n",
    "test_batch = len(test_loader)\n",
    "train_metric = TaskMetric(train_tasks, train_tasks, config[\"training_params\"][\"batch_size\"], 3*config[\"training_params\"][\"total_epochs\"], config[\"training_params\"][\"dataset\"])\n",
    "test_metric = TaskMetric(train_tasks, train_tasks, config[\"training_params\"][\"batch_size\"], 3*config[\"training_params\"][\"total_epochs\"], config[\"training_params\"][\"dataset\"])"
   ]
  },
  {
   "cell_type": "code",
   "execution_count": 13,
   "metadata": {},
   "outputs": [],
   "source": [
    "model.freeze_shared_layers(requires_grad=True)\n",
    "optimizer = optim.AdamW(model.parameters(), lr=config[\"training_params\"][\"lr\"], weight_decay=1e-4)\n",
    "scheduler = optim.lr_scheduler.OneCycleLR(optimizer, max_lr=config[\"training_params\"][\"lr\"], steps_per_epoch=len(train_loader), epochs=3*config[\"training_params\"][\"total_epochs\"],  pct_start=0.05)"
   ]
  },
  {
   "cell_type": "code",
   "execution_count": null,
   "metadata": {},
   "outputs": [],
   "source": [
    "#  Training loop\n",
    "model.to(device)\n",
    "for epoch in range(config[\"training_params\"][\"total_epochs\"], 4*config[\"training_params\"][\"total_epochs\"]):\n",
    "    # training\n",
    "    model.train()\n",
    "    train_dataset = iter(train_loader)\n",
    "    for k in range(train_batch):\n",
    "        train_data, train_target = next(train_dataset)\n",
    "        train_data = train_data.to(device)\n",
    "        train_target = {task_id: train_target[task_id].to(device) for task_id in model.head_tasks}\n",
    "        \n",
    "        train_res = model(train_data, None, img_gt=train_target, return_loss=True)\n",
    "        \n",
    "        optimizer.zero_grad()\n",
    "        train_res[\"total_loss\"].backward()\n",
    "        optimizer.step()\n",
    "        scheduler.step()\n",
    "\n",
    "        train_metric.update_metric(train_res, train_target)\n",
    "    \n",
    "    train_str = train_metric.compute_metric()\n",
    "    \n",
    "    wandb.log({\n",
    "        **{f\"train/loss/{task_id}\": train_res[task_id][\"total_loss\"] for task_id in model.head_tasks},\n",
    "        **{f\"train/metric/{task_id}\": train_metric.get_metric(task_id) for task_id in model.head_tasks}\n",
    "    },) # step=epoch\n",
    "    train_metric.reset()\n",
    "\n",
    "    # evaluating\n",
    "    test_str = eval(epoch, model, test_loader, test_metric)\n",
    "\n",
    "    print(f\"Epoch {epoch:04d} | TRAIN:{train_str} || TEST:{test_str} | Best: {config['training_params']['task'].title()} {test_metric.get_best_performance(config['training_params']['task']):.4f}\")\n",
    "\n",
    "    # task_dict = {\"train_loss\": train_metric.metric, \"test_loss\": test_metric.metric}\n",
    "    # np.save(\"logging/stl_{}_{}_{}_{}.npy\".format(config[\"training_params\"][\"network\"], config[\"training_params\"][\"dataset\"], config[\"training_params\"][\"task\"], config[\"training_params\"][\"seed\"]), task_dict)\n",
    "    torch_save(model, f\"{config['training_params']['out_dir']}/{config['training_params']['task']}_model.pt\")"
   ]
  },
  {
   "cell_type": "code",
   "execution_count": null,
   "metadata": {},
   "outputs": [],
   "source": [
    "wandb.finish(quiet=True)"
   ]
  },
  {
   "cell_type": "code",
   "execution_count": 11,
   "metadata": {},
   "outputs": [],
   "source": [
    "# img_metas (list[dict]): List of image info dict where each dict\n",
    "#                 has: 'img_shape', 'scale_factor', 'flip', and may also contain\n",
    "#                 'filename', 'ori_shape', 'pad_shape', and 'img_norm_cfg'."
   ]
  }
 ],
 "metadata": {
  "kernelspec": {
   "display_name": "base",
   "language": "python",
   "name": "python3"
  },
  "language_info": {
   "codemirror_mode": {
    "name": "ipython",
    "version": 3
   },
   "file_extension": ".py",
   "mimetype": "text/x-python",
   "name": "python",
   "nbconvert_exporter": "python",
   "pygments_lexer": "ipython3",
   "version": "3.10.14"
  }
 },
 "nbformat": 4,
 "nbformat_minor": 2
}
